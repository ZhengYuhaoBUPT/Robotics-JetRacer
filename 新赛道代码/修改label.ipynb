{
 "cells": [
  {
   "cell_type": "code",
   "execution_count": 6,
   "metadata": {},
   "outputs": [
    {
     "ename": "ModuleNotFoundError",
     "evalue": "No module named 'cv2'",
     "output_type": "error",
     "traceback": [
      "\u001b[1;31m---------------------------------------------------------------------------\u001b[0m",
      "\u001b[1;31mModuleNotFoundError\u001b[0m                       Traceback (most recent call last)",
      "\u001b[1;32m<ipython-input-6-85b85d3b6648>\u001b[0m in \u001b[0;36m<module>\u001b[1;34m\u001b[0m\n\u001b[1;32m----> 1\u001b[1;33m \u001b[1;32mimport\u001b[0m \u001b[0mcv2\u001b[0m\u001b[1;33m\u001b[0m\u001b[1;33m\u001b[0m\u001b[0m\n\u001b[0m\u001b[0;32m      2\u001b[0m \u001b[1;32mimport\u001b[0m \u001b[0mglob\u001b[0m\u001b[1;33m\u001b[0m\u001b[1;33m\u001b[0m\u001b[0m\n\u001b[0;32m      3\u001b[0m \u001b[1;32mimport\u001b[0m \u001b[0mos\u001b[0m\u001b[1;33m\u001b[0m\u001b[1;33m\u001b[0m\u001b[0m\n\u001b[0;32m      4\u001b[0m \u001b[1;31m#from jupyter_clickable_image_widget import ClickableImageWidget\u001b[0m\u001b[1;33m\u001b[0m\u001b[1;33m\u001b[0m\u001b[1;33m\u001b[0m\u001b[0m\n\u001b[0;32m      5\u001b[0m \u001b[1;32mimport\u001b[0m \u001b[0mipywidgets\u001b[0m\u001b[1;33m\u001b[0m\u001b[1;33m\u001b[0m\u001b[0m\n",
      "\u001b[1;31mModuleNotFoundError\u001b[0m: No module named 'cv2'"
     ]
    }
   ],
   "source": [
    "import cv2\n",
    "import glob\n",
    "import os\n",
    "#from jupyter_clickable_image_widget import ClickableImageWidget\n",
    "import ipywidgets \n",
    "import traitlets\n",
    "from IPython.display import display\n",
    "import numpy as np\n",
    "import uuid\n",
    "import shutil\n",
    "\n",
    "image_widget = ipywidgets.Image(width=224, height=224)\n",
    "show_path_widget = ipywidgets.Text()\n",
    "next_button = ipywidgets.Button(description='下一张')\n",
    "button1 = ipywidgets.Button(description='弯道减速')\n",
    "button2 = ipywidgets.Button(description='弯道不超车')\n",
    "button3 = ipywidgets.Button(description='直道加速')\n",
    "button4 = ipywidgets.Button(description='直道超车')\n",
    "\n",
    "#迭代器获取文件\n",
    "it = iter(glob.glob(os.path.join('collect_photo_A', 'v1','*.jpg')))\n",
    "\n",
    "imagepath0 = ''\n",
    "\n",
    "def read_image(image_path):\n",
    "    global imagepath0\n",
    "    img = cv2.imread(image_path)\n",
    "    image_widget.value = bytes(bgr8_to_jpeg(img))\n",
    "    imagepath0 = image_path\n",
    "    show_path_widget.value = imagepath0\n",
    "read_image(next(it))\n",
    "\n",
    "def rename(v):\n",
    "    global imagepath0\n",
    "    x = int(os.path.basename(imagepath0).split('/')[-1].split('.')[0].split('_')[0])\n",
    "    y = int(os.path.basename(imagepath0).split('/')[-1].split('.')[0].split('_')[1])\n",
    "    \n",
    "    dest_dir = './racing_AutoCollect/测试'\n",
    "    new_filename = os.path.join(dest_dir, '%d_%d_%f_%s.jpg' % (x,y,v,str(uuid.uuid1())))\n",
    "    os.rename(imagepath0,new_filename)\n",
    "    return None\n",
    "\n",
    "next_button.on_click(lambda c: read_image(next(it)))\n",
    "button1.on_click(lambda c: rename(0.6))\n",
    "button2.on_click(lambda c: rename(0.55))\n",
    "button3.on_click(lambda c: rename(0.7))\n",
    "button4.on_click(lambda c: rename(0.75))"
   ]
  },
  {
   "cell_type": "code",
   "execution_count": null,
   "metadata": {},
   "outputs": [],
   "source": []
  }
 ],
 "metadata": {
  "kernelspec": {
   "display_name": "Python 3",
   "language": "python",
   "name": "python3"
  },
  "language_info": {
   "codemirror_mode": {
    "name": "ipython",
    "version": 3
   },
   "file_extension": ".py",
   "mimetype": "text/x-python",
   "name": "python",
   "nbconvert_exporter": "python",
   "pygments_lexer": "ipython3",
   "version": "3.7.4"
  }
 },
 "nbformat": 4,
 "nbformat_minor": 2
}
