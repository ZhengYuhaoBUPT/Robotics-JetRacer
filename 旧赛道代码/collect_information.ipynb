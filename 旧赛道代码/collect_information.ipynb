{
 "cells": [
  {
   "cell_type": "markdown",
   "id": "proud-annual",
   "metadata": {},
   "source": [
    "# Photo Collecting\n",
    "open camera"
   ]
  },
  {
   "cell_type": "code",
   "execution_count": 1,
   "id": "theoretical-removal",
   "metadata": {},
   "outputs": [],
   "source": [
    "from jetcam.csi_camera import CSICamera\n",
    "\n",
    "camera = CSICamera(width=224, height=224)\n",
    "camera.running = True"
   ]
  },
  {
   "cell_type": "markdown",
   "id": "intelligent-pillow",
   "metadata": {},
   "source": [
    "# Timing Collecting"
   ]
  },
  {
   "cell_type": "code",
   "execution_count": 2,
   "id": "continental-washington",
   "metadata": {},
   "outputs": [],
   "source": [
    "import torchvision.transforms as transforms\n",
    "\n",
    "\n",
    "TakingPhotoTransforms = transforms.Compose([\n",
    "    transforms.ColorJitter(0.2, 0.2, 0.2, 0.2),\n",
    "    transforms.Resize((224, 224)),\n",
    "    transforms.ToTensor(),\n",
    "    transforms.Normalize([0.485, 0.456, 0.406], [0.229, 0.224, 0.225])\n",
    "])"
   ]
  },
  {
   "cell_type": "code",
   "execution_count": 3,
   "id": "magnetic-buying",
   "metadata": {},
   "outputs": [
    {
     "data": {
      "application/vnd.jupyter.widget-view+json": {
       "model_id": "9f239b30e59e4a81a7a2cb7b66412664",
       "version_major": 2,
       "version_minor": 0
      },
      "text/plain": [
       "ToggleButtons(description='state', index=1, options=('continue', 'stop'), value='stop')"
      ]
     },
     "metadata": {},
     "output_type": "display_data"
    }
   ],
   "source": [
    "import time\n",
    "import cv2\n",
    "import ipywidgets\n",
    "import traitlets\n",
    "from IPython.display import display\n",
    "from jetcam.utils import bgr8_to_jpeg\n",
    "import os\n",
    "import subprocess\n",
    "import uuid\n",
    "from jupyter_clickable_image_widget import ClickableImageWidget\n",
    "import glob\n",
    "import torch.nn.functional as F\n",
    "import torchvision\n",
    "import torch\n",
    "import torch.optim as optim\n",
    "\n",
    "camera.unobserve_all()\n",
    "\n",
    "SamplingNumber = 500#采样数量\n",
    "SamplingInterval = 0.1#采样间隔时间\n",
    "\n",
    "\n",
    "StartCollecting_widget = ipywidgets.ToggleButtons(options=['continue', 'stop'], description='state', value='stop')#可视化处理，点击continue开始采样，stop状态下结束采样\n",
    "\n",
    "\n",
    "category_dir = os.path.join('collect_photo_A','v1')#图片保存路径\n",
    "def start_takingphoto(change):#上述可视化操作绑定事件\n",
    "    if change['new'] == 'continue':\n",
    "        if not os.path.exists(category_dir):\n",
    "            subprocess.call(['mkdir', '-p', category_dir])#没有路径时创建路径\n",
    "        for i in range(SamplingNumber):\n",
    "            filename = '%d_%s.jpg' % (i, str(uuid.uuid1()))#先不添加标签，uuid()为防止重名用来生成随机字符串的python内置函数\n",
    "            image_path = os.path.join(category_dir, filename)\n",
    "            cv2.imwrite(image_path, camera.value)\n",
    "            time.sleep(SamplingInterval)#采样间隔\n",
    "        StartCollecting_widget.value = 'stop'#采样达到采样数量结束采样\n",
    "\n",
    "StartCollecting_widget.observe(start_takingphoto,names = 'value')#事件绑定\n",
    "\n",
    "display(StartCollecting_widget)"
   ]
  },
  {
   "cell_type": "markdown",
   "id": "together-knitting",
   "metadata": {},
   "source": [
    "# close camera"
   ]
  },
  {
   "cell_type": "code",
   "execution_count": 6,
   "id": "agricultural-baking",
   "metadata": {},
   "outputs": [
    {
     "name": "stderr",
     "output_type": "stream",
     "text": [
      "Exception in thread Thread-4:\n",
      "Traceback (most recent call last):\n",
      "  File \"/usr/lib/python3.6/threading.py\", line 916, in _bootstrap_inner\n",
      "    self.run()\n",
      "  File \"/usr/lib/python3.6/threading.py\", line 864, in run\n",
      "    self._target(*self._args, **self._kwargs)\n",
      "  File \"/usr/local/lib/python3.6/dist-packages/jetcam-0.0.0-py3.6.egg/jetcam/camera.py\", line 34, in _capture_frames\n",
      "    self.value = self._read()\n",
      "  File \"/usr/local/lib/python3.6/dist-packages/jetcam-0.0.0-py3.6.egg/jetcam/csi_camera.py\", line 40, in _read\n",
      "    raise RuntimeError('Could not read image from camera')\n",
      "RuntimeError: Could not read image from camera\n",
      "\n"
     ]
    }
   ],
   "source": [
    "camera.running = False\n",
    "camera.cap.release()"
   ]
  },
  {
   "cell_type": "markdown",
   "id": "collected-listing",
   "metadata": {},
   "source": [
    "# add label"
   ]
  },
  {
   "cell_type": "code",
   "execution_count": 8,
   "id": "descending-story",
   "metadata": {},
   "outputs": [
    {
     "data": {
      "application/vnd.jupyter.widget-view+json": {
       "model_id": "84a81700173044928dc79595784e0aff",
       "version_major": 2,
       "version_minor": 0
      },
      "text/plain": [
       "VBox(children=(HBox(children=(ClickableImageWidget(value=b'\\xff\\xd8\\xff\\xe0\\x00\\x10JFIF\\x00\\x01\\x01\\x00\\x00\\x0…"
      ]
     },
     "metadata": {},
     "output_type": "display_data"
    }
   ],
   "source": [
    "import shutil\n",
    "import time\n",
    "import cv2\n",
    "import ipywidgets\n",
    "import traitlets\n",
    "from IPython.display import display\n",
    "from jetcam.utils import bgr8_to_jpeg\n",
    "import os\n",
    "import subprocess\n",
    "import uuid\n",
    "from jupyter_clickable_image_widget import ClickableImageWidget\n",
    "import glob\n",
    "\n",
    "category_dir = os.path.join('collect_photo_A','v1')\n",
    "\n",
    "image_widget = ClickableImageWidget(width=camera.width, height=camera.height)\n",
    "marked_widget = ipywidgets.Image(format='jpeg', width=224, height=224)\n",
    "\n",
    "SwitchOrDelete_widget = ipywidgets.ToggleButtons(options=['next', 'delete','save'], description='state', value=None)#当前状态有下一张图片，删除图片，保存图片\n",
    "\n",
    "speedUp_sign = ipywidgets.IntSlider(min=-100, max=100, step=1, description='speed_sign')#速度标签\n",
    "over_sign = ipywidgets.IntSlider(min=0, max=3, step=1, description='over_sign')#超车标签\n",
    "stop_sign = ipywidgets.IntSlider(min=0, max=10, step=1, description='stop_sign')#停车标签\n",
    "direction_sign = ipywidgets.IntSlider(min=-100, max=100, step=1, description='direction_sign')#直行还是转向标签\n",
    "\n",
    "\n",
    "MarkedSpeedUp_sign = ipywidgets.Text(value=str(0),placeholder='Type something',description='label:Speed')#已标速度标签\n",
    "Markedover_sign = ipywidgets.Text(value=str(0),placeholder='Type something',description='label:over')#已标超车标签\n",
    "MarkedStop_sign = ipywidgets.Text(value=str(0),placeholder='Type something',description='label:Stop')#已标停车标签\n",
    "MarkedDirection_sign = ipywidgets.Text(value=str(0),placeholder='Type something',description='label:Direction')#已标直行还是转向标签\n",
    "\n",
    "collected_image = glob.glob(os.path.join(category_dir,'*.jpg'))#获取前面自动采集图片\n",
    "\n",
    "point_x = 0\n",
    "point_y = 0\n",
    "\n",
    "def marked_snapshot(_, content, msg):#标记图像中x,y坐标函数\n",
    "    global point_x\n",
    "    global point_y\n",
    "    if content['event'] == 'click':\n",
    "        data = content['eventData']\n",
    "        point_x = data['offsetX']\n",
    "        point_y = data['offsetY']\n",
    "        \n",
    "        # display saved snapshot\n",
    "        snapshot = cv2.imread(collected_image[i_picture])\n",
    "        snapshot = cv2.circle(snapshot, (point_x, point_y), 8, (0, 255, 0), 3)\n",
    "        marked_widget.value = bgr8_to_jpeg(snapshot)\n",
    "        \n",
    "image_widget.on_msg(marked_snapshot)\n",
    "\n",
    "PresentImage = open(collected_image[0],\"rb\").read()\n",
    "image_widget.value = PresentImage\n",
    "\n",
    "\n",
    "\n",
    "i_picture = 0\n",
    "\n",
    "#添加标签后的path\n",
    "category_path= os.path.join('collect_photo_B','v1')\n",
    "\n",
    "def nextimage(change):#要绑定的图片保存删除下一张等操作\n",
    "    global i_picture\n",
    "\n",
    "    basename = os.path.basename(collected_image[i_picture])\n",
    "    items = basename.split('_')\n",
    "    x = items[0]\n",
    "    y = items[1]\n",
    "    if change['new']=='next':\n",
    "        i_picture += 1\n",
    "        PresentImage = open(collected_image[i_picture],\"rb\").read()\n",
    "        image_widget.value = PresentImage\n",
    "    elif change['new']=='delete':\n",
    "        os.remove(collected_image[i_picture])\n",
    "    elif change['new']=='save':\n",
    "        fileName = '%d_%d_%d_%d_%d_%d_%s.jpg' % (int(x), int(y), int(MarkedSpeedUp_sign.value),int(Markedover_sign.value),int(MarkedStop_sign.value),int(MarkedDirection_sign.value),str(uuid.uuid1()))\n",
    "        RenewName = os.path.join(category_path,fileName)\n",
    "        os.rename(collected_image[i_picture],RenewName)\n",
    "        #shutil.copyfile(collected_image[i_picture],RenewName)\n",
    "        \n",
    "    time.sleep(1)\n",
    "    SwitchOrDelete_widget.value = None\n",
    "\n",
    "SwitchOrDelete_widget.observe(nextimage,names='value')\n",
    "\n",
    "def updata_MarkedSpeedUp(b):#更新已标速度标签值\n",
    "    MarkedSpeedUp_sign.value = str(speedUp_sign.value)\n",
    "\n",
    "def updata_Markedover(b):#更新已标超车标签值\n",
    "    Markedover_sign.value = str(over_sign.value)\n",
    "\n",
    "def updata_MarkedStop(b):#更新已标停车标签值\n",
    "    MarkedStop_sign.value = str(stop_sign.value)\n",
    "\n",
    "def updata_MarkedDirection(b):#更新已标直行还是转向标签值\n",
    "    MarkedDirection_sign.value = str(direction_sign.value)\n",
    "\n",
    "speedUp_sign.observe(updata_MarkedSpeedUp)\n",
    "over_sign.observe(updata_Markedover)\n",
    "stop_sign.observe(updata_MarkedStop)\n",
    "direction_sign.observe(updata_MarkedDirection)\n",
    "\n",
    "\n",
    "handle_widget = ipywidgets.VBox([\n",
    "    ipywidgets.HBox([image_widget]),\n",
    "   ipywidgets.HBox([speedUp_sign,MarkedSpeedUp_sign]),\n",
    "    ipywidgets.HBox([over_sign,Markedover_sign]),\n",
    "    ipywidgets.HBox([stop_sign,MarkedStop_sign]),\n",
    "    ipywidgets.HBox([direction_sign,MarkedDirection_sign]),\n",
    "    SwitchOrDelete_widget\n",
    "])\n",
    "\n",
    "display(handle_widget)"
   ]
  },
  {
   "cell_type": "code",
   "execution_count": 5,
   "id": "matched-rates",
   "metadata": {},
   "outputs": [],
   "source": [
    "from my_dataset import MY_Dataset\n",
    "racer_datasets = MY_Dataset(category_path,TakingPhotoTransforms,random_hflip=True)\n",
    "\n"
   ]
  },
  {
   "cell_type": "markdown",
   "id": "flexible-tuner",
   "metadata": {},
   "source": [
    "# Model"
   ]
  },
  {
   "cell_type": "markdown",
   "id": "thorough-sewing",
   "metadata": {},
   "source": [
    "### Create data loaders to load data in batches"
   ]
  },
  {
   "cell_type": "code",
   "execution_count": 6,
   "id": "resident-thesis",
   "metadata": {},
   "outputs": [],
   "source": [
    "\n",
    "\n",
    "train_loader = torch.utils.data.DataLoader(\n",
    "    racer_datasets,\n",
    "    batch_size = 16,\n",
    "    shuffle = True,\n",
    "    num_workers = 4\n",
    ")"
   ]
  },
  {
   "cell_type": "markdown",
   "id": "three-billion",
   "metadata": {},
   "source": [
    "### Define Neural Network Model "
   ]
  },
  {
   "cell_type": "code",
   "execution_count": 7,
   "id": "general-kentucky",
   "metadata": {},
   "outputs": [],
   "source": [
    "model = torchvision.models.resnet18(pretrained=True)\n",
    "\n",
    "\n",
    "# 第一个参数是全连接层的数量，第二个参数是输出层的个数\n",
    "model.fc = torch.nn.Linear(512, 6)\n",
    "\n",
    "device = torch.device('cuda')\n",
    "model = model.to(device)\n",
    "\n",
    "racer_model_path = 'road_following_model.pth'\n",
    "model_save_button = ipywidgets.Button(description='save model')\n",
    "model_load_button = ipywidgets.Button(description='load model')\n",
    "model_path_widget = ipywidgets.Text(description='model path', value=racer_model_path)\n",
    "\n",
    "def load_model(c):\n",
    "    model.load_state_dict(torch.load(model_path_widget.value))\n",
    "model_load_button.on_click(load_model)\n",
    "    \n",
    "def save_model(c):\n",
    "    torch.save(model.state_dict(), model_path_widget.value)\n",
    "model_save_button.on_click(save_model)\n",
    "\n",
    "model_widget = ipywidgets.VBox([\n",
    "    model_path_widget,\n",
    "    ipywidgets.HBox([model_load_button, model_save_button])\n",
    "])\n",
    "\n"
   ]
  },
  {
   "cell_type": "code",
   "execution_count": 8,
   "id": "useful-liabilities",
   "metadata": {},
   "outputs": [
    {
     "data": {
      "application/vnd.jupyter.widget-view+json": {
       "model_id": "30b2f3139c874570bca4b75a4de8a802",
       "version_major": 2,
       "version_minor": 0
      },
      "text/plain": [
       "VBox(children=(IntText(value=1, description='epochs'), FloatProgress(value=0.0, description='progress', max=1.…"
      ]
     },
     "metadata": {},
     "output_type": "display_data"
    },
    {
     "data": {
      "application/vnd.jupyter.widget-view+json": {
       "model_id": "9f8acf7790da4562ada8f6550a2a82c4",
       "version_major": 2,
       "version_minor": 0
      },
      "text/plain": [
       "VBox(children=(Text(value='road_following_model.pth', description='model path'), HBox(children=(Button(descrip…"
      ]
     },
     "metadata": {},
     "output_type": "display_data"
    }
   ],
   "source": [
    "NUM_EPOCHS = 20\n",
    "best_loss = 1e9\n",
    "\n",
    "optimizer = optim.Adam(model.parameters())\n",
    "\n",
    "epochs_widget = ipywidgets.IntText(description='epochs', value=1)\n",
    "eval_button = ipywidgets.Button(description='evaluate')\n",
    "train_button = ipywidgets.Button(description='train')\n",
    "loss_widget = ipywidgets.FloatText(description='loss')\n",
    "progress_widget = ipywidgets.FloatProgress(min=0.0, max=1.0, description='progress')\n",
    "\n",
    "\n",
    "def train_eval(is_training):\n",
    "    global model\n",
    "    \n",
    "    train_button.disabled = True\n",
    "    eval_button.disabled = True\n",
    "    time.sleep(1)\n",
    "        \n",
    "    if is_training:\n",
    "        model = model.train()\n",
    "    else:\n",
    "        model = model.eval()\n",
    "        \n",
    "    while epochs_widget.value > 0:\n",
    "        i = 0\n",
    "        sum_loss = 0.0\n",
    "        for images, labels in iter(train_loader):\n",
    "            images = images.to(device)\n",
    "            labels = labels.to(device)\n",
    "            if is_training:\n",
    "                # 参数的零梯度\n",
    "                optimizer.zero_grad()\n",
    "\n",
    "            # 执行模型以获得输出\n",
    "            outputs = model(images)\n",
    "            loss = F.mse_loss(outputs, labels)\n",
    "            if is_training:\n",
    "                # 运行反向传播以累积梯度\n",
    "                loss.backward()\n",
    "\n",
    "                # 调整参数的步进优化器\n",
    "                optimizer.step()\n",
    "                \n",
    "            i += 1\n",
    "            sum_loss += float(loss)\n",
    "            progress_widget.value = i / len(racer_datasets)\n",
    "            loss_widget.value = sum_loss / i\n",
    "                \n",
    "        if is_training:\n",
    "            epochs_widget.value = epochs_widget.value - 1\n",
    "        else:\n",
    "            break\n",
    "\n",
    "    model = model.eval()\n",
    "\n",
    "    train_button.disabled = False\n",
    "    eval_button.disabled = False\n",
    "\n",
    "\n",
    "train_button.on_click(lambda c: train_eval(is_training=True))\n",
    "eval_button.on_click(lambda c: train_eval(is_training=False))\n",
    "\n",
    "train_eval_widget = ipywidgets.VBox([\n",
    "    epochs_widget,\n",
    "    progress_widget,\n",
    "    loss_widget,\n",
    "    ipywidgets.HBox([train_button, eval_button])\n",
    "])\n",
    "\n",
    "display(train_eval_widget,model_widget)\n"
   ]
  },
  {
   "cell_type": "code",
   "execution_count": null,
   "id": "suspended-fitness",
   "metadata": {},
   "outputs": [],
   "source": []
  }
 ],
 "metadata": {
  "kernelspec": {
   "display_name": "Python 3",
   "language": "python",
   "name": "python3"
  },
  "language_info": {
   "codemirror_mode": {
    "name": "ipython",
    "version": 3
   },
   "file_extension": ".py",
   "mimetype": "text/x-python",
   "name": "python",
   "nbconvert_exporter": "python",
   "pygments_lexer": "ipython3",
   "version": "3.6.9"
  },
  "toc-autonumbering": true,
  "toc-showcode": true,
  "toc-showmarkdowntxt": false
 },
 "nbformat": 4,
 "nbformat_minor": 5
}
